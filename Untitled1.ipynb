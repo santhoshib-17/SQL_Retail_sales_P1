{
  "nbformat": 4,
  "nbformat_minor": 0,
  "metadata": {
    "colab": {
      "provenance": [],
      "authorship_tag": "ABX9TyOK1q90FqgZpGa3e0Ap0d+Q",
      "include_colab_link": true
    },
    "kernelspec": {
      "name": "python3",
      "display_name": "Python 3"
    },
    "language_info": {
      "name": "python"
    }
  },
  "cells": [
    {
      "cell_type": "markdown",
      "metadata": {
        "id": "view-in-github",
        "colab_type": "text"
      },
      "source": [
        "<a href=\"https://colab.research.google.com/github/santhoshib-17/SQL_Retail_sales_P1/blob/main/Untitled1.ipynb\" target=\"_parent\"><img src=\"https://colab.research.google.com/assets/colab-badge.svg\" alt=\"Open In Colab\"/></a>"
      ]
    },
    {
      "cell_type": "markdown",
      "source": [
        "1.Basic List Operation:\n",
        "Write a Python program to create a list with the elements [10, 20, 30, 40, 50]. Then, replace the third element with 100 and print the updated list.\n",
        "2.List Slicing:\n",
        "Given the list numbers = [1, 2, 3, 4, 5, 6, 7, 8, 9], write a Python program to print the first 5 elements and the last 3 elements using slicing.\n",
        "3.List Comprehension:\n",
        "Write a Python one-liner using list comprehension to generate a list of squares for numbers from 1 to 10.\n"
      ],
      "metadata": {
        "id": "ZmOwKn_1RI-q"
      }
    },
    {
      "cell_type": "code",
      "execution_count": 6,
      "metadata": {
        "id": "OusF3q65-w9A",
        "colab": {
          "base_uri": "https://localhost:8080/",
          "height": 35
        },
        "outputId": "a4ffcfce-0015-4a74-bb25-ebce25b7fdea"
      },
      "outputs": [
        {
          "output_type": "execute_result",
          "data": {
            "text/plain": [
              "'10,20,100,40,50'"
            ],
            "application/vnd.google.colaboratory.intrinsic+json": {
              "type": "string"
            }
          },
          "metadata": {},
          "execution_count": 6
        }
      ],
      "source": [
        "a=\"10,20,30,40,50\"\n",
        "a.replace(\"30\",\"100\")"
      ]
    },
    {
      "cell_type": "code",
      "source": [
        "a=[1,2,3,4,5,6,7,8,9]\n",
        "print(a[:5])\n",
        "print(a[-3:])"
      ],
      "metadata": {
        "colab": {
          "base_uri": "https://localhost:8080/"
        },
        "id": "zaW9q3D5RZVu",
        "outputId": "f97618d2-4c24-48e6-a9c1-bd3f66c097f5"
      },
      "execution_count": 13,
      "outputs": [
        {
          "output_type": "stream",
          "name": "stdout",
          "text": [
            "[1, 2, 3, 4, 5]\n",
            "[7, 8, 9]\n"
          ]
        }
      ]
    },
    {
      "cell_type": "code",
      "source": [
        "c=[x**2 for x in range (1,11)]\n",
        "print(c)"
      ],
      "metadata": {
        "colab": {
          "base_uri": "https://localhost:8080/"
        },
        "id": "8OzTfCnKX2Bo",
        "outputId": "006620c5-f5bd-495f-d9b5-59e95e933d07"
      },
      "execution_count": 14,
      "outputs": [
        {
          "output_type": "stream",
          "name": "stdout",
          "text": [
            "[1, 4, 9, 16, 25, 36, 49, 64, 81, 100]\n"
          ]
        }
      ]
    },
    {
      "cell_type": "markdown",
      "source": [
        "Tuple (2 Questions)\n",
        "4.Tuple Immutability:\n",
        "Given t = (1, 2, 3, 4), try modifying the second element to 10. What error do you get, and why?\n",
        "5.Tuple Unpacking:\n",
        "Given the tuple coordinates = (4, 5), write a Python program to unpack its values into two variables x and y and print them.\n",
        "\n",
        "\n",
        "```\n",
        "# This is formatted as code\n",
        "```\n",
        "\n"
      ],
      "metadata": {
        "id": "h7Z8zAlEd0U5"
      }
    },
    {
      "cell_type": "code",
      "source": [
        "#t=(1,2,3,4)\n",
        "#t.replace(\"2\",\"10\")\n",
        "# As tuple is immutable, we cannot modify"
      ],
      "metadata": {
        "id": "FCtCEAumeGxK"
      },
      "execution_count": 16,
      "outputs": []
    },
    {
      "cell_type": "code",
      "source": [
        "tuple_name = (4,5)\n",
        "x,y= tuple_name\n",
        "print(x)\n",
        "print(y)\n"
      ],
      "metadata": {
        "colab": {
          "base_uri": "https://localhost:8080/"
        },
        "id": "7SUAQRTqeeJq",
        "outputId": "3fe169d7-7722-4a2c-e1c7-c3f679c51b85"
      },
      "execution_count": 19,
      "outputs": [
        {
          "output_type": "stream",
          "name": "stdout",
          "text": [
            "4\n",
            "5\n"
          ]
        }
      ]
    }
  ]
}